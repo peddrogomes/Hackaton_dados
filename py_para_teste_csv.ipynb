{
 "cells": [
  {
   "cell_type": "markdown",
   "metadata": {},
   "source": [
    "## **Código de Geração do Arquivo de Submissão**\n",
    "\n",
    "\n",
    "#### Objetivo -> O intuito desse código é fazer as devidas transformações no arquivo CSV gerado pelo modelo para deixar no padrão final que deverá ser submetido pelo time no site (http://thundera.budokai:5455/).\n",
    "\n",
    "\n",
    "#### OBS: O arquivo de submissão deve conter as seguintes colunas obrigatórias: \n",
    "\n",
    "                                      codigo_ibge, 2018, 2019, 2020\n",
    "      \n",
    "   #### Sendo que teremos um total de 20 códigos do IBGE obrigatórios que deverão estar contidos no arquivo CSV, sendo eles:\n",
    "  \n",
    "                                            4102000\n",
    "                                            4104303\n",
    "                                            4104428\n",
    "                                            4104808\n",
    "                                            4104907\n",
    "                                            4109401\n",
    "                                            4113205\n",
    "                                            4113700\n",
    "                                            4113734\n",
    "                                            4114005\n",
    "                                            4114401\n",
    "                                            4117701\n",
    "                                            4117909\n",
    "                                            4119608\n",
    "                                            4119905\n",
    "                                            4127007\n",
    "                                            4127403\n",
    "                                            4127502\n",
    "                                            4127700\n",
    "                                            4128005  \n",
    "  \n",
    " #### OBS: Qualquer dúvida, favor entrar em contato com o staff do Budokai."
   ]
  },
  {
   "cell_type": "code",
   "execution_count": 59,
   "metadata": {},
   "outputs": [],
   "source": [
    "import pandas as pd"
   ]
  },
  {
   "cell_type": "code",
   "execution_count": 60,
   "metadata": {},
   "outputs": [],
   "source": [
    "# Leitura do arquivo que tem os valores previstos por ano (2018,2019 e 2020) do seu modelo, junto com os códigos do IBGE acima\n",
    "# Altere o nome do arquivo abaixo:\n",
    "\n",
    "file_submissao = pd.read_csv('submission.csv',sep=\",\", header=0)"
   ]
  },
  {
   "cell_type": "code",
   "execution_count": 61,
   "metadata": {},
   "outputs": [
    {
     "name": "stdout",
     "output_type": "stream",
     "text": [
      "Colunas corretas!\n"
     ]
    }
   ],
   "source": [
    "# Conferindo campos obrigatórios do arquivo de submissão\n",
    "\n",
    "if set(['codigo_ibge','2018','2019','2020']).issubset(file_submissao.columns):\n",
    "    print('Colunas corretas!')\n",
    "else:\n",
    "    print('As colunas codigo_ibge, 2018, 2019, 2020 são obrigatórias.')"
   ]
  },
  {
   "cell_type": "code",
   "execution_count": 62,
   "metadata": {},
   "outputs": [
    {
     "name": "stdout",
     "output_type": "stream",
     "text": [
      "Arquivo conferido com sucesso!\n"
     ]
    }
   ],
   "source": [
    "# Conferindo códigos do IBGE obrigatórios do arquivo de submissão\n",
    "\n",
    "df = pd.DataFrame({'codigos': [4102000,4104303,4104428,4104808,4104907,4109401,4113205,4113700,4113734,4114005,4114401,4117701,4117909,4119608,4119905,4127007,4127403,4127502,4127700,4128005\n",
    "]})\n",
    "check = df['codigos'].isin(file_submissao['codigo_ibge'])\n",
    "false_count = (~check).sum()\n",
    "\n",
    "if false_count != 0:\n",
    "    print('Existem ',false_count,'códigos errados na coluna codigo_ibge. Favor revisar os códigos na descrição acima.')\n",
    "else:\n",
    "    print('Arquivo conferido com sucesso!')"
   ]
  },
  {
   "cell_type": "code",
   "execution_count": 63,
   "metadata": {},
   "outputs": [],
   "source": [
    "#Transformação e Ordenação temporal da tabela\n",
    "file_sub_unpivoted = file_submissao.melt(id_vars=['codigo_ibge'], var_name='Ano', value_name='Valor_Previsto')"
   ]
  },
  {
   "cell_type": "code",
   "execution_count": 64,
   "metadata": {},
   "outputs": [],
   "source": [
    "# Excluir coluna de tempo\n",
    "del file_sub_unpivoted[\"Ano\"]"
   ]
  },
  {
   "cell_type": "code",
   "execution_count": 65,
   "metadata": {},
   "outputs": [],
   "source": [
    "#Geração do arquivo que será submetido\n",
    "#Altere o nome do arquivo CSV de saída\n",
    "file_sub_unpivoted.to_csv(\"submission2.csv\", index=False)"
   ]
  },
  {
   "cell_type": "code",
   "execution_count": null,
   "metadata": {},
   "outputs": [],
   "source": []
  }
 ],
 "metadata": {
  "kernelspec": {
   "display_name": "Python 3",
   "language": "python",
   "name": "python3"
  },
  "language_info": {
   "codemirror_mode": {
    "name": "ipython",
    "version": 3
   },
   "file_extension": ".py",
   "mimetype": "text/x-python",
   "name": "python",
   "nbconvert_exporter": "python",
   "pygments_lexer": "ipython3",
   "version": "3.7.6"
  }
 },
 "nbformat": 4,
 "nbformat_minor": 2
}
